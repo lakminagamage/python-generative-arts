{
 "cells": [
  {
   "cell_type": "code",
   "execution_count": 1,
   "metadata": {
    "pycharm": {
     "name": "#%%\n"
    }
   },
   "outputs": [],
   "source": [
    "\"\"\"\n",
    "python generative arts assignment 214065V-GamageLPG\n",
    "in this notebook, python Turtle graphics library was used alonsides with random library to generate \n",
    "random numbers\n",
    "\"\"\"\n",
    "\n",
    "# install libraries to run (uncomment below lines if you are running this for the first time)\n",
    "# !pip install turtle\n",
    "\n",
    "#from turtle import *\n",
    "from random import randint\n",
    "from turtle import *\n",
    "\n",
    "#initializing screen object for define canvas\n",
    "screen = Screen()\n",
    "screen.title(\"Python Generative Art Assignment\")\n",
    "\n",
    "\n",
    "\n",
    "#taking a Turtle instance as 'plotter'\n",
    "plotter = Turtle()"
   ]
  },
  {
   "cell_type": "code",
   "execution_count": 2,
   "metadata": {
    "pycharm": {
     "name": "#%%\n"
    }
   },
   "outputs": [],
   "source": [
    "# set plotting speed. Increasing this value may draw shapes faster\n",
    "plotter.speed(100)\n",
    "\n",
    "# this value sets the breadth of a line drawn by plotter\n",
    "plotter.pensize(1)\n",
    "\n",
    "\"\"\"\n",
    "this defines the sceme for the input to color() function.\n",
    "here 255 means values are given in range of 0-255.\n",
    "\"\"\"\n",
    "colormode(255)"
   ]
  },
  {
   "cell_type": "code",
   "execution_count": 3,
   "metadata": {
    "pycharm": {
     "name": "#%%\n"
    }
   },
   "outputs": [
    {
     "ename": "TypeError",
     "evalue": "'_Screen' object is not callable",
     "output_type": "error",
     "traceback": [
      "\u001b[0;31m---------------------------------------------------------------------------\u001b[0m",
      "\u001b[0;31mTypeError\u001b[0m                                 Traceback (most recent call last)",
      "Cell \u001b[0;32mIn[3], line 29\u001b[0m\n\u001b[1;32m     26\u001b[0m     screen\u001b[38;5;241m.\u001b[39mbgcolor(randint(\u001b[38;5;241m0\u001b[39m, \u001b[38;5;241m55\u001b[39m),randint(\u001b[38;5;241m0\u001b[39m, \u001b[38;5;241m55\u001b[39m),randint(\u001b[38;5;241m0\u001b[39m, \u001b[38;5;241m55\u001b[39m))\n\u001b[1;32m     28\u001b[0m \u001b[38;5;66;03m# close screen after completion\u001b[39;00m\n\u001b[0;32m---> 29\u001b[0m \u001b[43mscreen\u001b[49m\u001b[43m(\u001b[49m\u001b[43m)\u001b[49m\u001b[38;5;241m.\u001b[39mbye()\n",
      "\u001b[0;31mTypeError\u001b[0m: '_Screen' object is not callable"
     ]
    }
   ],
   "source": [
    "#iterate drawing sequence for 1000 times\n",
    "for i in range (1000):\n",
    "    \n",
    "    #setting the color for fill\n",
    "    plotter.color(randint(0, 255),randint(0, 255),randint(0, 255))\n",
    "    \n",
    "    #start filling foreground color for shape to be drawn\n",
    "    plotter.begin_fill()\n",
    "    \n",
    "    #Define shape to be drawn with random size between 0-100\n",
    "    plotter.circle(1 * randint(0, 100))\n",
    "    \n",
    "    #stop filling the color to shape\n",
    "    plotter.end_fill()\n",
    "    \n",
    "    #start drawing the shape\n",
    "    plotter.penup()\n",
    "    \n",
    "    #go to a random coordinate for the next circle draw\n",
    "    plotter.goto(randint(-500, 500), randint(-300, 270))\n",
    "    \n",
    "    #stop drawing operation\n",
    "    plotter.pendown()\n",
    "    \n",
    "    #change canvas background color randomly\n",
    "    screen.bgcolor(randint(0, 55),randint(0, 55),randint(0, 55))\n",
    "    \n",
    "# close screen after completion\n",
    "screen().bye()"
   ]
  },
  {
   "cell_type": "code",
   "execution_count": null,
   "metadata": {
    "pycharm": {
     "name": "#%%\n"
    }
   },
   "outputs": [],
   "source": []
  },
  {
   "cell_type": "code",
   "execution_count": null,
   "metadata": {
    "pycharm": {
     "name": "#%%\n"
    }
   },
   "outputs": [],
   "source": []
  },
  {
   "cell_type": "code",
   "execution_count": null,
   "metadata": {
    "pycharm": {
     "name": "#%%\n"
    }
   },
   "outputs": [],
   "source": []
  },
  {
   "cell_type": "code",
   "execution_count": null,
   "metadata": {
    "pycharm": {
     "name": "#%%\n"
    }
   },
   "outputs": [],
   "source": []
  },
  {
   "cell_type": "code",
   "execution_count": null,
   "metadata": {
    "pycharm": {
     "name": "#%%\n"
    }
   },
   "outputs": [],
   "source": []
  },
  {
   "cell_type": "code",
   "execution_count": null,
   "metadata": {
    "pycharm": {
     "name": "#%%\n"
    }
   },
   "outputs": [],
   "source": []
  },
  {
   "cell_type": "code",
   "execution_count": null,
   "metadata": {
    "pycharm": {
     "name": "#%%\n"
    }
   },
   "outputs": [],
   "source": []
  },
  {
   "cell_type": "code",
   "execution_count": null,
   "metadata": {
    "pycharm": {
     "name": "#%%\n"
    }
   },
   "outputs": [],
   "source": []
  },
  {
   "cell_type": "code",
   "execution_count": null,
   "metadata": {
    "pycharm": {
     "name": "#%%\n"
    }
   },
   "outputs": [],
   "source": []
  },
  {
   "cell_type": "code",
   "execution_count": null,
   "metadata": {
    "pycharm": {
     "name": "#%%\n"
    }
   },
   "outputs": [],
   "source": []
  },
  {
   "cell_type": "code",
   "execution_count": null,
   "metadata": {
    "pycharm": {
     "name": "#%%\n"
    }
   },
   "outputs": [],
   "source": []
  }
 ],
 "metadata": {
  "kernelspec": {
   "display_name": "Python 3 (ipykernel)",
   "language": "python",
   "name": "python3"
  },
  "language_info": {
   "codemirror_mode": {
    "name": "ipython",
    "version": 3
   },
   "file_extension": ".py",
   "mimetype": "text/x-python",
   "name": "python",
   "nbconvert_exporter": "python",
   "pygments_lexer": "ipython3",
   "version": "3.8.0"
  }
 },
 "nbformat": 4,
 "nbformat_minor": 1
}
